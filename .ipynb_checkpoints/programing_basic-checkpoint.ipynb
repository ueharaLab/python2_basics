{
 "cells": [
  {
   "cell_type": "markdown",
   "id": "1123090b-4267-4b90-bd8d-a01dd51953e7",
   "metadata": {},
   "source": [
    "# Jupyterの基本操作"
   ]
  },
  {
   "cell_type": "markdown",
   "id": "0e2e20d8-8016-44de-bf6b-785a9eb02d7a",
   "metadata": {},
   "source": [
    "# セルはどのようにも分割できる"
   ]
  },
  {
   "cell_type": "code",
   "execution_count": 1,
   "id": "b0da227b-061b-446c-a900-8e86027e5635",
   "metadata": {},
   "outputs": [],
   "source": [
    "a=2+3"
   ]
  },
  {
   "cell_type": "markdown",
   "id": "6d83d41b-06a5-402f-a8f0-862cef8c4642",
   "metadata": {},
   "source": [
    "# セルの作成・削除・コピー"
   ]
  },
  {
   "cell_type": "code",
   "execution_count": null,
   "id": "82207a27-88c2-4dac-9e1c-60e828c64e23",
   "metadata": {},
   "outputs": [],
   "source": [
    "保存"
   ]
  },
  {
   "cell_type": "code",
   "execution_count": null,
   "id": "696881f0-859a-4b25-a6c6-9dd33cc41453",
   "metadata": {},
   "outputs": [],
   "source": [
    "コードのコピー"
   ]
  },
  {
   "cell_type": "code",
   "execution_count": null,
   "id": "1370b1a5-1480-4762-9384-bcc3719f083b",
   "metadata": {},
   "outputs": [],
   "source": [
    "メモを書く（マークダウン）"
   ]
  }
 ],
 "metadata": {
  "kernelspec": {
   "display_name": "Python 3 (ipykernel)",
   "language": "python",
   "name": "python3"
  },
  "language_info": {
   "codemirror_mode": {
    "name": "ipython",
    "version": 3
   },
   "file_extension": ".py",
   "mimetype": "text/x-python",
   "name": "python",
   "nbconvert_exporter": "python",
   "pygments_lexer": "ipython3",
   "version": "3.11.7"
  }
 },
 "nbformat": 4,
 "nbformat_minor": 5
}
